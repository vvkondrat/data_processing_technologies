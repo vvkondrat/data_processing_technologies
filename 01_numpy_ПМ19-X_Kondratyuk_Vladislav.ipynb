{
 "cells": [
  {
   "cell_type": "markdown",
   "metadata": {},
   "source": [
    "# Numpy"
   ]
  },
  {
   "cell_type": "markdown",
   "metadata": {},
   "source": [
    "Материалы:\n",
    "* Макрушин С.В. \"Лекция 1: Библиотека Numpy\"\n",
    "* https://numpy.org/doc/stable/user/index.html\n",
    "* https://numpy.org/doc/stable/reference/index.html"
   ]
  },
  {
   "cell_type": "markdown",
   "metadata": {},
   "source": [
    "## Задачи для совместного разбора"
   ]
  },
  {
   "cell_type": "markdown",
   "metadata": {},
   "source": [
    "1. Сгенерировать двухмерный массив `arr` размерности (4, 7), состоящий из случайных действительных чисел, равномерно распределенных в диапазоне от 0 до 20. Нормализовать значения массива с помощью преобразования вида  $𝑎𝑥+𝑏$  так, что после нормализации максимальный элемент масcива будет равен 1.0, минимальный 0.0"
   ]
  },
  {
   "cell_type": "code",
   "execution_count": 4,
   "metadata": {},
   "outputs": [],
   "source": [
    "import numpy as np"
   ]
  },
  {
   "cell_type": "code",
   "execution_count": 11,
   "metadata": {},
   "outputs": [
    {
     "name": "stdout",
     "output_type": "stream",
     "text": [
      "[[ 3.30052352 15.63190401 12.77626992 10.60418555 15.83036653  1.93429933\n",
      "   8.22283354]\n",
      " [ 4.99911009  8.72810044 16.12866321 16.0739754  18.24753364 16.29411866\n",
      "  12.82822087]\n",
      " [18.49936435  9.63054908 11.01862015  4.37133298 14.20054075 17.51468119\n",
      "   0.29267968]\n",
      " [ 9.12243354 16.37553478 11.99305134  1.09629335  3.09251255  7.17979275\n",
      "   8.25933107]]\n"
     ]
    },
    {
     "data": {
      "text/plain": [
       "array([[0.16520547, 0.84250508, 0.68565972, 0.56635824, 0.85340561,\n",
       "        0.09016577, 0.43556276],\n",
       "       [0.25850013, 0.46331449, 0.86978952, 0.8667858 , 0.98616823,\n",
       "        0.87887714, 0.68851312],\n",
       "       [1.        , 0.51288137, 0.58912101, 0.22401955, 0.76388762,\n",
       "        0.94591639, 0.        ],\n",
       "       [0.48497318, 0.88334891, 0.64264153, 0.04413839, 0.15378049,\n",
       "        0.37827387, 0.43756738]])"
      ]
     },
     "execution_count": 11,
     "metadata": {},
     "output_type": "execute_result"
    }
   ],
   "source": [
    "data = np.random.uniform(0, 20, size = (4, 7))\n",
    "print(data)\n",
    "(data-np.min(data))/(np.max(data)-np.min(data))"
   ]
  },
  {
   "cell_type": "markdown",
   "metadata": {},
   "source": [
    "2. Создать матрицу 8 на 10 из случайных целых (используя модуль `numpy.random`) чисел из диапозона от 0 до 10 и найти в ней строку (ее индекс и вывести саму строку), в которой сумма значений минимальна."
   ]
  },
  {
   "cell_type": "code",
   "execution_count": 12,
   "metadata": {},
   "outputs": [
    {
     "name": "stdout",
     "output_type": "stream",
     "text": [
      "[[6 0 2 7 1 5 9 1 5 1]\n",
      " [6 6 3 3 1 1 3 5 2 7]\n",
      " [5 9 8 5 6 4 3 6 9 6]\n",
      " [5 0 4 4 4 2 0 9 8 4]\n",
      " [2 4 8 4 9 9 0 4 9 3]\n",
      " [5 4 5 8 0 6 2 5 8 8]\n",
      " [5 8 2 8 4 6 0 4 0 5]\n",
      " [2 1 6 7 4 9 0 2 4 5]]\n",
      "Row Index 0\n"
     ]
    },
    {
     "data": {
      "text/plain": [
       "array([6, 0, 2, 7, 1, 5, 9, 1, 5, 1])"
      ]
     },
     "execution_count": 12,
     "metadata": {},
     "output_type": "execute_result"
    }
   ],
   "source": [
    "arr = np.random.randint(0, 10, size = (8, 10))\n",
    "print(arr)\n",
    "print(\"Row Index\",np.argmin(np.sum(arr, axis=1)))\n",
    "arr[np.argmin(np.sum(arr, axis=1))]"
   ]
  },
  {
   "cell_type": "markdown",
   "metadata": {},
   "source": [
    "3. Найти евклидово расстояние между двумя одномерными векторами одинаковой размерности."
   ]
  },
  {
   "cell_type": "code",
   "execution_count": 13,
   "metadata": {},
   "outputs": [
    {
     "name": "stdout",
     "output_type": "stream",
     "text": [
      "[ 3  4 16 12  7]\n",
      "[18 11  6 18 19]\n",
      "23.53720459187964\n",
      "23.53720459187964\n"
     ]
    }
   ],
   "source": [
    "import matplotlib.pyplot as pl\n",
    "from mpl_toolkits.mplot3d import Axes3D\n",
    "point_1 = np.random.randint(0, 20, size=5)\n",
    "point_2 = np.random.randint(0, 20, size=5)\n",
    "print(point_1)\n",
    "print(point_2)\n",
    "#first way\n",
    "square = np.square(point_1 - point_2)\n",
    "sum_square = np.sum(square)\n",
    "print(np.sqrt(sum_square))\n",
    "#second way\n",
    "distance = np.linalg.norm(point_1-point_2)\n",
    "print(distance)"
   ]
  },
  {
   "cell_type": "markdown",
   "metadata": {},
   "source": [
    "4. Решить матричное уравнение `A*X*B=-C` - найти матрицу `X`. Где `A = [[-1, 2, 4], [-3, 1, 2], [-3, 0, 1]]`, `B=[[3, -1], [2, 1]]`, `C=[[7, 21], [11, 8], [8, 4]]`."
   ]
  },
  {
   "cell_type": "code",
   "execution_count": 14,
   "metadata": {},
   "outputs": [
    {
     "name": "stdout",
     "output_type": "stream",
     "text": [
      "[[ 3. -1.]\n",
      " [-4.  3.]\n",
      " [ 1. -7.]]\n",
      "[[ 1.00000000e+00  1.11022302e-15]\n",
      " [-2.00000000e+00  1.00000000e+00]\n",
      " [ 3.00000000e+00 -4.00000000e+00]]\n"
     ]
    }
   ],
   "source": [
    "a = np.array([[-1, 2, 4], [-3, 1, 2], [-3, 0, 1]])\n",
    "b = np.array([[3, -1], [2, 1]])\n",
    "c = np.array([[7, 21], [11, 8], [8, 4]])\n",
    "#решение: x = a^-1*(-c)*b^-1\n",
    "\n",
    "x0 = np.matmul(np.linalg.inv(a),(-c))\n",
    "print(x0)\n",
    "x =  np.matmul(x0,np.linalg.inv(b))\n",
    "print(x)"
   ]
  },
  {
   "cell_type": "markdown",
   "metadata": {},
   "source": [
    "## Лабораторная работа №1"
   ]
  },
  {
   "cell_type": "markdown",
   "metadata": {},
   "source": [
    "Замечание: при решении данных задач не подразумевается использования циклов или генераторов Python, если в задании не сказано обратного. Решение должно опираться на использования функционала библиотеки `numpy`."
   ]
  },
  {
   "cell_type": "markdown",
   "metadata": {},
   "source": [
    "1. Файл `minutes_n_ingredients.csv` содержит информацию об идентификаторе рецепта, времени его выполнения в минутах и количестве необходимых ингредиентов. Считайте данные из этого файла в виде массива `numpy` типа `int32`, используя `np.loadtxt`. Выведите на экран первые 5 строк массива."
   ]
  },
  {
   "cell_type": "code",
   "execution_count": 19,
   "metadata": {},
   "outputs": [
    {
     "name": "stdout",
     "output_type": "stream",
     "text": [
      "[[127244     60     16]\n",
      " [ 23891     25      7]\n",
      " [ 94746     10      6]\n",
      " [ 67660      5      6]\n",
      " [157911     60     14]]\n"
     ]
    }
   ],
   "source": [
    "import numpy as np\n",
    "data = np.loadtxt('minutes_n_ingredients.csv', dtype='int32', delimiter=\",\", skiprows=1)\n",
    "print(data[:5,])"
   ]
  },
  {
   "cell_type": "markdown",
   "metadata": {},
   "source": [
    "2. Вычислите среднее значение, минимум, максимум и медиану по каждому из столбцов, кроме первого."
   ]
  },
  {
   "cell_type": "code",
   "execution_count": 7,
   "metadata": {},
   "outputs": [
    {
     "name": "stdout",
     "output_type": "stream",
     "text": [
      "Среднее значение, минимум, максимум, медиана\n",
      "[2.16010017e+04 9.05528000e+00]\n",
      "[0 1]\n",
      "[2147483647         39]\n",
      "[40.  9.]\n"
     ]
    }
   ],
   "source": [
    "new = data[:,1:]\n",
    "average = np.average(new, axis=0)\n",
    "\n",
    "min = np.min(new, axis=0)\n",
    "\n",
    "max = np.max(new, axis=0)\n",
    "\n",
    "median = np.median(new, axis=0)\n",
    "\n",
    "print(\"Среднее значение, минимум, максимум, медиана\")\n",
    "print(average)\n",
    "print(min)\n",
    "print(max)\n",
    "print(median)"
   ]
  },
  {
   "cell_type": "markdown",
   "metadata": {},
   "source": [
    "3. Ограничьте сверху значения продолжительности выполнения рецепта значением квантиля $q_{0.75}$. "
   ]
  },
  {
   "cell_type": "code",
   "execution_count": 8,
   "metadata": {},
   "outputs": [
    {
     "data": {
      "text/plain": [
       "array([60, 25, 10, ..., 65,  5, 65])"
      ]
     },
     "execution_count": 8,
     "metadata": {},
     "output_type": "execute_result"
    }
   ],
   "source": [
    "np.clip(data[:,1], 0, np.quantile(data[:, 1], 0.75, method='higher'))"
   ]
  },
  {
   "cell_type": "markdown",
   "metadata": {},
   "source": [
    "4. Посчитайте, для скольких рецептов указана продолжительность, равная нулю. Замените для таких строк значение в данном столбце на 1."
   ]
  },
  {
   "cell_type": "code",
   "execution_count": 37,
   "metadata": {},
   "outputs": [
    {
     "name": "stdout",
     "output_type": "stream",
     "text": [
      "0\n",
      "0\n"
     ]
    }
   ],
   "source": [
    "minutes_zeros = data[:, 1]\n",
    "\n",
    "bool_arr = (minutes_zeros == 0)\n",
    "# количество рецептов, для которых продолжительность равна нулю\n",
    "count_zeros = np.count_nonzero(bool_arr)\n",
    "print(count_zeros) # 479\n",
    "\n",
    "# замена всех нулей на единицы\n",
    "minutes_zeros[minutes_zeros == 0] = 1\n",
    "# подсчет нулей и вывод\n",
    "count_zeros_new = np.count_nonzero(bool_arr)\n",
    "# нулей больше нет в массиве данных\n",
    "print(count_zeros_new)"
   ]
  },
  {
   "cell_type": "markdown",
   "metadata": {},
   "source": [
    "5. Посчитайте, сколько уникальных рецептов находится в датасете."
   ]
  },
  {
   "cell_type": "code",
   "execution_count": 59,
   "metadata": {},
   "outputs": [
    {
     "name": "stdout",
     "output_type": "stream",
     "text": [
      "100000\n"
     ]
    }
   ],
   "source": [
    "ids = data[:, 0]\n",
    "count = len(np.unique(ids))\n",
    "print(count)"
   ]
  },
  {
   "cell_type": "markdown",
   "metadata": {},
   "source": [
    "6. Сколько и каких различных значений кол-ва ингредиентов присутвует в рецептах из датасета?"
   ]
  },
  {
   "cell_type": "code",
   "execution_count": 60,
   "metadata": {},
   "outputs": [
    {
     "name": "stdout",
     "output_type": "stream",
     "text": [
      "[ 1  2  3  4  5  6  7  8  9 10 11 12 13 14 15 16 17 18 19 20 21 22 23 24\n",
      " 25 26 27 28 29 30 31 32 33 34 35 37 39]\n",
      "37\n"
     ]
    }
   ],
   "source": [
    "n_ingredients = data[:,2]\n",
    "unique_n_ingredients = np.unique(n_ingredients)\n",
    "count = len(unique_n_ingredients)\n",
    "\n",
    "print(unique_n_ingredients)\n",
    "print(count)"
   ]
  },
  {
   "cell_type": "markdown",
   "metadata": {},
   "source": [
    "7. Создайте версию массива, содержащую информацию только о рецептах, состоящих не более чем из 5 ингредиентов."
   ]
  },
  {
   "cell_type": "code",
   "execution_count": 21,
   "metadata": {},
   "outputs": [
    {
     "name": "stdout",
     "output_type": "stream",
     "text": [
      "[[     0      0      0]\n",
      " [446597     15      5]\n",
      " [204134      5      3]\n",
      " ...\n",
      " [ 52088     60      5]\n",
      " [128811     15      4]\n",
      " [370915      5      4]]\n"
     ]
    }
   ],
   "source": [
    "data[np.where(data[:, 2] <= 5)]"
   ]
  },
  {
   "cell_type": "markdown",
   "metadata": {},
   "source": [
    "8. Для каждого рецепта посчитайте, сколько в среднем ингредиентов приходится на одну минуту рецепта. Найдите максимальное значение этой величины для всего датасета"
   ]
  },
  {
   "cell_type": "code",
   "execution_count": 43,
   "metadata": {},
   "outputs": [
    {
     "name": "stdout",
     "output_type": "stream",
     "text": [
      "[[0.26666667 0.28       0.6        ... 0.23076923 0.8        0.1       ]]\n",
      "[24.]\n"
     ]
    }
   ],
   "source": [
    "new = np.array([data[:,2] / data[:,1]])\n",
    "max_value = new.max(axis=1)\n",
    "print(new)\n",
    "print(max_value)"
   ]
  },
  {
   "cell_type": "markdown",
   "metadata": {},
   "source": [
    "9. Вычислите среднее количество ингредиентов для топ-100 рецептов с наибольшей продолжительностью"
   ]
  },
  {
   "cell_type": "code",
   "execution_count": 55,
   "metadata": {},
   "outputs": [
    {
     "name": "stdout",
     "output_type": "stream",
     "text": [
      "6.61\n"
     ]
    }
   ],
   "source": [
    "# сортировка по убывания по второму столбцу (минуты)\n",
    "sorted_by_minutes = data[data[:,1].argsort()[::-1]]\n",
    "#  создаем массив ингредиентов из отсортированного массива\n",
    "top100_only_ingredients = sorted_by_minutes[:100,2]\n",
    "# находим среднее кол-во ингредиентов\n",
    "average_top100 = np.mean(top100_only_ingredients)\n",
    "# вывод\n",
    "print(average_top100)"
   ]
  },
  {
   "cell_type": "markdown",
   "metadata": {},
   "source": [
    "10. Выберите случайным образом и выведите информацию о 10 различных рецептах"
   ]
  },
  {
   "cell_type": "code",
   "execution_count": 64,
   "metadata": {},
   "outputs": [
    {
     "name": "stdout",
     "output_type": "stream",
     "text": [
      "[163071     10      6]\n",
      "[265531     70      7]\n",
      "[403404      5      4]\n",
      "[53920    35     6]\n",
      "[292286      5      7]\n",
      "[398943    490      7]\n",
      "[517553     75      7]\n",
      "[320154     30      4]\n",
      "[194584     45     12]\n",
      "[305724     25      9]\n"
     ]
    }
   ],
   "source": [
    "for i in range(10):\n",
    "    print(data[np.random.randint(len(data))])"
   ]
  },
  {
   "cell_type": "markdown",
   "metadata": {},
   "source": [
    "11. Выведите процент рецептов, кол-во ингредиентов в которых меньше среднего."
   ]
  },
  {
   "cell_type": "code",
   "execution_count": 105,
   "metadata": {},
   "outputs": [
    {
     "name": "stdout",
     "output_type": "stream",
     "text": [
      "58.802 %\n"
     ]
    }
   ],
   "source": [
    "# среднее кол-во ингредиентов\n",
    "mean_value = data[:,2].mean()\n",
    "\n",
    "c = np.count_nonzero(data[:,2] < mean_value)\n",
    "result = c / len(data) * 100\n",
    "print(result,\"%\")"
   ]
  },
  {
   "cell_type": "markdown",
   "metadata": {},
   "source": [
    "12. Назовем \"простым\" такой рецепт, длительность выполнения которого не больше 20 минут и кол-во ингредиентов в котором не больше 5. Создайте версию датасета с дополнительным столбцом, значениями которого являются 1, если рецепт простой, и 0 в противном случае."
   ]
  },
  {
   "cell_type": "code",
   "execution_count": 55,
   "metadata": {},
   "outputs": [
    {
     "name": "stdout",
     "output_type": "stream",
     "text": [
      "[[127244     60     16      0]\n",
      " [ 23891     25      7      0]\n",
      " [ 94746     10      6      0]\n",
      " ...\n",
      " [498432     65     15      0]\n",
      " [370915      5      4      1]\n",
      " [ 81993    140     14      0]]\n"
     ]
    }
   ],
   "source": [
    "\n",
    "x, y = data[:,1], data[:,2]\n",
    "new = np.where((x <= 20) & (y <= 5), 1, 0)[:, np.newaxis]\n",
    "simple_recipes = np.hstack((data, new))\n",
    "\n",
    "print(simple_recipes)"
   ]
  },
  {
   "cell_type": "markdown",
   "metadata": {},
   "source": [
    "13. Выведите процент \"простых\" рецептов в датасете"
   ]
  },
  {
   "cell_type": "code",
   "execution_count": 10,
   "metadata": {},
   "outputs": [
    {
     "name": "stdout",
     "output_type": "stream",
     "text": [
      "9.552 %\n"
     ]
    }
   ],
   "source": [
    "result = simple_recipes[:,3].sum() / len(data) * 100\n",
    "print(result, '%')"
   ]
  },
  {
   "cell_type": "markdown",
   "metadata": {},
   "source": [
    "14. Разделим рецепты на группы по следующему правилу. Назовем рецепты короткими, если их продолжительность составляет менее 10 минут; стандартными, если их продолжительность составляет более 10, но менее 20 минут; и длинными, если их продолжительность составляет не менее 20 минут. Создайте трехмерный массив, где нулевая ось отвечает за номер группы (короткий, стандартный или длинный рецепт), первая ось - за сам рецепт и вторая ось - за характеристики рецепта. Выберите максимальное количество рецептов из каждой группы таким образом, чтобы было возможно сформировать трехмерный массив. Выведите форму полученного массива."
   ]
  },
  {
   "cell_type": "code",
   "execution_count": 53,
   "metadata": {},
   "outputs": [
    {
     "name": "stdout",
     "output_type": "stream",
     "text": [
      "[[[ 77618      5      6]\n",
      "  [ 34121      5      3]\n",
      "  [ 95926      5      3]\n",
      "  ...\n",
      "  [  3252      0     10]\n",
      "  [227475      5      8]\n",
      "  [459324      2      4]]\n",
      "\n",
      " [[226305     10      7]\n",
      "  [153159     17     10]\n",
      "  [259876     15      6]\n",
      "  ...\n",
      "  [168154     14      4]\n",
      "  [ 68467     17      9]\n",
      "  [  2815     10      9]]\n",
      "\n",
      " [[153966     45     11]\n",
      "  [204566     45     13]\n",
      "  [ 47319     40     12]\n",
      "  ...\n",
      "  [279870     45     15]\n",
      "  [417697     25      5]\n",
      "  [224701    492      7]]]\n",
      "(3, 7588, 3)\n"
     ]
    }
   ],
   "source": [
    "# копируем датасет для работы\n",
    "new_data = data.copy()\n",
    "# создаем столбец с группами по продолжительности 0, 1, 2\n",
    "axis1 = np.where(new_data[:,1] < 10, 0, np.where((new_data[:,1] >= 10) & (new_data[:,1] < 20), 1, 2))\n",
    "# добавляем столбец с указанием группы к основному датасету\n",
    "res = np.hstack((new_data, axis1[:, np.newaxis]))\n",
    "# ищем количество рецептов с определенной группой\n",
    "count1 = np.count_nonzero(res[:,3] == 0)\n",
    "count2 = np.count_nonzero(res[:,3] == 1)\n",
    "count3 = np.count_nonzero(res[:,3] == 2)\n",
    "# находим минимальное среди кол-ва трех групп, это и будет наше максимальное количество рецептов из каждой группы\n",
    "step = np.array([count1, count2, count3]).min() \n",
    "res = res[res[:,3].argsort()] # сортировка по 4 столбцу (нашим группам по продолжительности)\n",
    "# с помощью найденного количества рецептов по каждой группе создаем срезы и делаем трехмерный массив\n",
    "result = np.stack((res[:step, :3], res[count1+1:count1+1+step,:3], res[count1+count2:count1+count2+step,:3]))\n",
    "print(result)\n",
    "print(result.shape)"
   ]
  }
 ],
 "metadata": {
  "kernelspec": {
   "display_name": "Python 3 (ipykernel)",
   "language": "python",
   "name": "python3"
  },
  "language_info": {
   "codemirror_mode": {
    "name": "ipython",
    "version": 3
   },
   "file_extension": ".py",
   "mimetype": "text/x-python",
   "name": "python",
   "nbconvert_exporter": "python",
   "pygments_lexer": "ipython3",
   "version": "3.11.5"
  }
 },
 "nbformat": 4,
 "nbformat_minor": 4
}
